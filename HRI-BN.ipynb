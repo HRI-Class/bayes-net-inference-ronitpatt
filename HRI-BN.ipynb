{
 "cells": [
  {
   "cell_type": "markdown",
   "id": "a6eab71c-00de-41f5-abea-10857fd62ab1",
   "metadata": {
    "deletable": false,
    "editable": false,
    "nbgrader": {
     "cell_type": "markdown",
     "checksum": "cbb442e4fd138283742f58db79c60f81",
     "grade": false,
     "grade_id": "cell-9ef14c54e965c52f",
     "locked": true,
     "schema_version": 3,
     "solution": false,
     "task": false
    }
   },
   "source": [
    "# Binary Bayes Net Inference\n",
    "\n",
    "This is a quick notebook exercise to exemplify Bayes Net (BN) inference. \n",
    "\n",
    "Consider the following BN:  \n",
    "\n",
    "![Imaginary SuperBowl Bayes Net Diagram](BN-NFL.png \"Imaginary SuperBowl Bayes Net Diagram\")\n"
   ]
  },
  {
   "cell_type": "markdown",
   "id": "be4b46ea-0dda-42a4-b843-6e0a16c9fff9",
   "metadata": {
    "deletable": false,
    "editable": false,
    "nbgrader": {
     "cell_type": "markdown",
     "checksum": "200ab4c361ba63b26f34b7ffdaa852cb",
     "grade": false,
     "grade_id": "cell-f3b6fc3b134cd864",
     "locked": true,
     "schema_version": 3,
     "solution": false,
     "task": false
    }
   },
   "source": [
    "----\n",
    "We can use the `BayesianNetwork` module from [pgmpy](https://pgmpy.org/) to construct this network:"
   ]
  },
  {
   "cell_type": "code",
   "execution_count": 9,
   "id": "1e439347-e929-4102-a351-e7cc7dc71c43",
   "metadata": {
    "deletable": false,
    "editable": false,
    "nbgrader": {
     "cell_type": "code",
     "checksum": "761f46b1812e406736a740632ecee20e",
     "grade": false,
     "grade_id": "cell-dacd4367ba006678",
     "locked": true,
     "schema_version": 3,
     "solution": false,
     "task": false
    }
   },
   "outputs": [
    {
     "name": "stderr",
     "output_type": "stream",
     "text": [
      "/Users/ronitp/miniconda3/lib/python3.9/site-packages/tqdm/auto.py:22: TqdmWarning: IProgress not found. Please update jupyter and ipywidgets. See https://ipywidgets.readthedocs.io/en/stable/user_install.html\n",
      "  from .autonotebook import tqdm as notebook_tqdm\n"
     ]
    }
   ],
   "source": [
    "import numpy as np\n",
    "import pandas as pd\n",
    "\n",
    "from pgmpy.models import BayesianNetwork\n",
    "from pgmpy.factors.discrete import TabularCPD"
   ]
  },
  {
   "cell_type": "code",
   "execution_count": 8,
   "id": "34387666",
   "metadata": {},
   "outputs": [
    {
     "name": "stdout",
     "output_type": "stream",
     "text": [
      "Collecting pgmpy\n",
      "  Downloading pgmpy-0.1.26-py3-none-any.whl (2.0 MB)\n",
      "\u001b[2K     \u001b[90m━━━━━━━━━━━━━━━━━━━━━━━━━━━━━━━━━━━━━━━━\u001b[0m \u001b[32m2.0/2.0 MB\u001b[0m \u001b[31m10.0 MB/s\u001b[0m eta \u001b[36m0:00:00\u001b[0ma \u001b[36m0:00:01\u001b[0m\n",
      "\u001b[?25hCollecting opt-einsum\n",
      "  Downloading opt_einsum-3.4.0-py3-none-any.whl (71 kB)\n",
      "\u001b[2K     \u001b[90m━━━━━━━━━━━━━━━━━━━━━━━━━━━━━━━━━━━━━━━━\u001b[0m \u001b[32m71.9/71.9 kB\u001b[0m \u001b[31m6.9 MB/s\u001b[0m eta \u001b[36m0:00:00\u001b[0m\n",
      "\u001b[?25hCollecting torch\n",
      "  Downloading torch-2.6.0-cp39-none-macosx_11_0_arm64.whl (66.5 MB)\n",
      "\u001b[2K     \u001b[90m━━━━━━━━━━━━━━━━━━━━━━━━━━━━━━━━━━━━━━━━\u001b[0m \u001b[32m66.5/66.5 MB\u001b[0m \u001b[31m2.6 MB/s\u001b[0m eta \u001b[36m0:00:00\u001b[0m00:01\u001b[0m00:01\u001b[0m\n",
      "\u001b[?25hRequirement already satisfied: pandas in /Users/ronitp/miniconda3/lib/python3.9/site-packages (from pgmpy) (1.5.3)\n",
      "Requirement already satisfied: networkx in /Users/ronitp/miniconda3/lib/python3.9/site-packages (from pgmpy) (2.8.8)\n",
      "Collecting statsmodels\n",
      "  Downloading statsmodels-0.14.4-cp39-cp39-macosx_11_0_arm64.whl (9.9 MB)\n",
      "\u001b[2K     \u001b[90m━━━━━━━━━━━━━━━━━━━━━━━━━━━━━━━━━━━━━━━━\u001b[0m \u001b[32m9.9/9.9 MB\u001b[0m \u001b[31m2.7 MB/s\u001b[0m eta \u001b[36m0:00:00\u001b[0m00:01\u001b[0m00:01\u001b[0m\n",
      "\u001b[?25hCollecting joblib\n",
      "  Downloading joblib-1.4.2-py3-none-any.whl (301 kB)\n",
      "\u001b[2K     \u001b[90m━━━━━━━━━━━━━━━━━━━━━━━━━━━━━━━━━━━━━━━\u001b[0m \u001b[32m301.8/301.8 kB\u001b[0m \u001b[31m3.8 MB/s\u001b[0m eta \u001b[36m0:00:00\u001b[0ma \u001b[36m0:00:01\u001b[0m\n",
      "\u001b[?25hRequirement already satisfied: tqdm in /Users/ronitp/miniconda3/lib/python3.9/site-packages (from pgmpy) (4.64.0)\n",
      "Collecting google-generativeai\n",
      "  Downloading google_generativeai-0.8.4-py3-none-any.whl (175 kB)\n",
      "\u001b[2K     \u001b[90m━━━━━━━━━━━━━━━━━━━━━━━━━━━━━━━━━━━━━━━\u001b[0m \u001b[32m175.4/175.4 kB\u001b[0m \u001b[31m3.7 MB/s\u001b[0m eta \u001b[36m0:00:00\u001b[0ma \u001b[36m0:00:01\u001b[0m\n",
      "\u001b[?25hRequirement already satisfied: numpy in /Users/ronitp/miniconda3/lib/python3.9/site-packages (from pgmpy) (1.23.3)\n",
      "Collecting xgboost\n",
      "  Downloading xgboost-2.1.4-py3-none-macosx_12_0_arm64.whl (1.9 MB)\n",
      "\u001b[2K     \u001b[90m━━━━━━━━━━━━━━━━━━━━━━━━━━━━━━━━━━━━━━━━\u001b[0m \u001b[32m1.9/1.9 MB\u001b[0m \u001b[31m3.2 MB/s\u001b[0m eta \u001b[36m0:00:00\u001b[0ma \u001b[36m0:00:01\u001b[0m\n",
      "\u001b[?25hCollecting scipy\n",
      "  Downloading scipy-1.13.1-cp39-cp39-macosx_12_0_arm64.whl (30.3 MB)\n",
      "\u001b[2K     \u001b[90m━━━━━━━━━━━━━━━━━━━━━━━━━━━━━━━━━━━━━━━━\u001b[0m \u001b[32m30.3/30.3 MB\u001b[0m \u001b[31m2.9 MB/s\u001b[0m eta \u001b[36m0:00:00\u001b[0m00:01\u001b[0m00:01\u001b[0m\n",
      "\u001b[?25hRequirement already satisfied: pyparsing in /Users/ronitp/miniconda3/lib/python3.9/site-packages (from pgmpy) (3.0.9)\n",
      "Collecting scikit-learn\n",
      "  Downloading scikit_learn-1.6.1-cp39-cp39-macosx_12_0_arm64.whl (11.1 MB)\n",
      "\u001b[2K     \u001b[90m━━━━━━━━━━━━━━━━━━━━━━━━━━━━━━━━━━━━━━━━\u001b[0m \u001b[32m11.1/11.1 MB\u001b[0m \u001b[31m2.8 MB/s\u001b[0m eta \u001b[36m0:00:00\u001b[0m00:01\u001b[0m00:01\u001b[0m\n",
      "\u001b[?25hCollecting typing-extensions\n",
      "  Using cached typing_extensions-4.12.2-py3-none-any.whl (37 kB)\n",
      "Collecting protobuf\n",
      "  Using cached protobuf-5.29.3-cp38-abi3-macosx_10_9_universal2.whl (417 kB)\n",
      "Collecting google-api-python-client\n",
      "  Downloading google_api_python_client-2.161.0-py2.py3-none-any.whl (12.9 MB)\n",
      "\u001b[2K     \u001b[90m━━━━━━━━━━━━━━━━━━━━━━━━━━━━━━━━━━━━━━━━\u001b[0m \u001b[32m12.9/12.9 MB\u001b[0m \u001b[31m3.3 MB/s\u001b[0m eta \u001b[36m0:00:00\u001b[0m00:01\u001b[0m00:01\u001b[0m\n",
      "\u001b[?25hCollecting pydantic\n",
      "  Using cached pydantic-2.10.6-py3-none-any.whl (431 kB)\n",
      "Collecting google-api-core\n",
      "  Downloading google_api_core-2.24.1-py3-none-any.whl (160 kB)\n",
      "\u001b[2K     \u001b[90m━━━━━━━━━━━━━━━━━━━━━━━━━━━━━━━━━━━━━━━\u001b[0m \u001b[32m160.1/160.1 kB\u001b[0m \u001b[31m4.9 MB/s\u001b[0m eta \u001b[36m0:00:00\u001b[0m\n",
      "\u001b[?25hCollecting google-ai-generativelanguage==0.6.15\n",
      "  Downloading google_ai_generativelanguage-0.6.15-py3-none-any.whl (1.3 MB)\n",
      "\u001b[2K     \u001b[90m━━━━━━━━━━━━━━━━━━━━━━━━━━━━━━━━━━━━━━━━\u001b[0m \u001b[32m1.3/1.3 MB\u001b[0m \u001b[31m4.1 MB/s\u001b[0m eta \u001b[36m0:00:00\u001b[0ma \u001b[36m0:00:01\u001b[0m\n",
      "\u001b[?25hCollecting google-auth>=2.15.0\n",
      "  Downloading google_auth-2.38.0-py2.py3-none-any.whl (210 kB)\n",
      "\u001b[2K     \u001b[90m━━━━━━━━━━━━━━━━━━━━━━━━━━━━━━━━━━━━━━━\u001b[0m \u001b[32m210.8/210.8 kB\u001b[0m \u001b[31m3.7 MB/s\u001b[0m eta \u001b[36m0:00:00\u001b[0ma \u001b[36m0:00:01\u001b[0m\n",
      "\u001b[?25hCollecting proto-plus<2.0.0dev,>=1.22.3\n",
      "  Downloading proto_plus-1.26.0-py3-none-any.whl (50 kB)\n",
      "\u001b[2K     \u001b[90m━━━━━━━━━━━━━━━━━━━━━━━━━━━━━━━━━━━━━━━━\u001b[0m \u001b[32m50.2/50.2 kB\u001b[0m \u001b[31m4.2 MB/s\u001b[0m eta \u001b[36m0:00:00\u001b[0m\n",
      "\u001b[?25hRequirement already satisfied: python-dateutil>=2.8.1 in /Users/ronitp/miniconda3/lib/python3.9/site-packages (from pandas->pgmpy) (2.8.2)\n",
      "Requirement already satisfied: pytz>=2020.1 in /Users/ronitp/miniconda3/lib/python3.9/site-packages (from pandas->pgmpy) (2025.1)\n",
      "Collecting threadpoolctl>=3.1.0\n",
      "  Downloading threadpoolctl-3.5.0-py3-none-any.whl (18 kB)\n",
      "Collecting patsy>=0.5.6\n",
      "  Downloading patsy-1.0.1-py2.py3-none-any.whl (232 kB)\n",
      "\u001b[2K     \u001b[90m━━━━━━━━━━━━━━━━━━━━━━━━━━━━━━━━━━━━━━━\u001b[0m \u001b[32m232.9/232.9 kB\u001b[0m \u001b[31m4.5 MB/s\u001b[0m eta \u001b[36m0:00:00\u001b[0ma \u001b[36m0:00:01\u001b[0m\n",
      "\u001b[?25hRequirement already satisfied: packaging>=21.3 in /Users/ronitp/miniconda3/lib/python3.9/site-packages (from statsmodels->pgmpy) (21.3)\n",
      "Collecting fsspec\n",
      "  Downloading fsspec-2025.2.0-py3-none-any.whl (184 kB)\n",
      "\u001b[2K     \u001b[90m━━━━━━━━━━━━━━━━━━━━━━━━━━━━━━━━━━━━━━━\u001b[0m \u001b[32m184.5/184.5 kB\u001b[0m \u001b[31m5.6 MB/s\u001b[0m eta \u001b[36m0:00:00\u001b[0m\n",
      "\u001b[?25hCollecting jinja2\n",
      "  Using cached jinja2-3.1.5-py3-none-any.whl (134 kB)\n",
      "Collecting sympy==1.13.1\n",
      "  Downloading sympy-1.13.1-py3-none-any.whl (6.2 MB)\n",
      "\u001b[2K     \u001b[90m━━━━━━━━━━━━━━━━━━━━━━━━━━━━━━━━━━━━━━━━\u001b[0m \u001b[32m6.2/6.2 MB\u001b[0m \u001b[31m2.7 MB/s\u001b[0m eta \u001b[36m0:00:00\u001b[0m00:01\u001b[0m00:01\u001b[0m\n",
      "\u001b[?25hCollecting filelock\n",
      "  Using cached filelock-3.17.0-py3-none-any.whl (16 kB)\n",
      "Collecting mpmath<1.4,>=1.1.0\n",
      "  Using cached mpmath-1.3.0-py3-none-any.whl (536 kB)\n",
      "Collecting cachetools<6.0,>=2.0.0\n",
      "  Using cached cachetools-5.5.1-py3-none-any.whl (9.5 kB)\n",
      "Collecting rsa<5,>=3.1.4\n",
      "  Downloading rsa-4.9-py3-none-any.whl (34 kB)\n",
      "Collecting pyasn1-modules>=0.2.1\n",
      "  Downloading pyasn1_modules-0.4.1-py3-none-any.whl (181 kB)\n",
      "\u001b[2K     \u001b[90m━━━━━━━━━━━━━━━━━━━━━━━━━━━━━━━━━━━━━━━\u001b[0m \u001b[32m181.5/181.5 kB\u001b[0m \u001b[31m4.3 MB/s\u001b[0m eta \u001b[36m0:00:00\u001b[0ma \u001b[36m0:00:01\u001b[0m\n",
      "\u001b[?25hRequirement already satisfied: six>=1.5 in /Users/ronitp/miniconda3/lib/python3.9/site-packages (from python-dateutil>=2.8.1->pandas->pgmpy) (1.16.0)\n",
      "Requirement already satisfied: requests<3.0.0.dev0,>=2.18.0 in /Users/ronitp/.local/lib/python3.9/site-packages (from google-api-core->google-generativeai->pgmpy) (2.30.0)\n",
      "Collecting googleapis-common-protos<2.0.dev0,>=1.56.2\n",
      "  Downloading googleapis_common_protos-1.67.0-py2.py3-none-any.whl (164 kB)\n",
      "\u001b[2K     \u001b[90m━━━━━━━━━━━━━━━━━━━━━━━━━━━━━━━━━━━━━━━\u001b[0m \u001b[32m165.0/165.0 kB\u001b[0m \u001b[31m4.5 MB/s\u001b[0m eta \u001b[36m0:00:00\u001b[0m\n",
      "\u001b[?25hCollecting uritemplate<5,>=3.0.1\n",
      "  Downloading uritemplate-4.1.1-py2.py3-none-any.whl (10 kB)\n",
      "Collecting google-auth-httplib2<1.0.0,>=0.2.0\n",
      "  Downloading google_auth_httplib2-0.2.0-py2.py3-none-any.whl (9.3 kB)\n",
      "Collecting httplib2<1.dev0,>=0.19.0\n",
      "  Downloading httplib2-0.22.0-py3-none-any.whl (96 kB)\n",
      "\u001b[2K     \u001b[90m━━━━━━━━━━━━━━━━━━━━━━━━━━━━━━━━━━━━━━━━\u001b[0m \u001b[32m96.9/96.9 kB\u001b[0m \u001b[31m4.8 MB/s\u001b[0m eta \u001b[36m0:00:00\u001b[0m\n",
      "\u001b[?25hCollecting MarkupSafe>=2.0\n",
      "  Downloading MarkupSafe-3.0.2-cp39-cp39-macosx_11_0_arm64.whl (12 kB)\n",
      "Collecting annotated-types>=0.6.0\n",
      "  Using cached annotated_types-0.7.0-py3-none-any.whl (13 kB)\n",
      "Collecting pydantic-core==2.27.2\n",
      "  Using cached pydantic_core-2.27.2-cp39-cp39-macosx_11_0_arm64.whl (1.8 MB)\n",
      "Collecting grpcio<2.0dev,>=1.33.2\n",
      "  Downloading grpcio-1.70.0-cp39-cp39-macosx_10_14_universal2.whl (11.5 MB)\n",
      "\u001b[2K     \u001b[90m━━━━━━━━━━━━━━━━━━━━━━━━━━━━━━━━━━━━━━━━\u001b[0m \u001b[32m11.5/11.5 MB\u001b[0m \u001b[31m3.2 MB/s\u001b[0m eta \u001b[36m0:00:00\u001b[0m00:01\u001b[0m00:01\u001b[0m\n",
      "\u001b[?25hCollecting grpcio-status<2.0.dev0,>=1.33.2\n",
      "  Downloading grpcio_status-1.70.0-py3-none-any.whl (14 kB)\n",
      "Collecting pyasn1<0.7.0,>=0.4.6\n",
      "  Downloading pyasn1-0.6.1-py3-none-any.whl (83 kB)\n",
      "\u001b[2K     \u001b[90m━━━━━━━━━━━━━━━━━━━━━━━━━━━━━━━━━━━━━━━━\u001b[0m \u001b[32m83.1/83.1 kB\u001b[0m \u001b[31m4.0 MB/s\u001b[0m eta \u001b[36m0:00:00\u001b[0m\n",
      "\u001b[?25hRequirement already satisfied: urllib3<3,>=1.21.1 in /Users/ronitp/.local/lib/python3.9/site-packages (from requests<3.0.0.dev0,>=2.18.0->google-api-core->google-generativeai->pgmpy) (2.0.2)\n",
      "Requirement already satisfied: charset-normalizer<4,>=2 in /Users/ronitp/.local/lib/python3.9/site-packages (from requests<3.0.0.dev0,>=2.18.0->google-api-core->google-generativeai->pgmpy) (3.1.0)\n",
      "Requirement already satisfied: idna<4,>=2.5 in /Users/ronitp/.local/lib/python3.9/site-packages (from requests<3.0.0.dev0,>=2.18.0->google-api-core->google-generativeai->pgmpy) (3.4)\n",
      "Requirement already satisfied: certifi>=2017.4.17 in /Users/ronitp/.local/lib/python3.9/site-packages (from requests<3.0.0.dev0,>=2.18.0->google-api-core->google-generativeai->pgmpy) (2023.5.7)\n",
      "Installing collected packages: mpmath, uritemplate, typing-extensions, threadpoolctl, sympy, scipy, pyasn1, protobuf, patsy, opt-einsum, MarkupSafe, joblib, httplib2, grpcio, fsspec, filelock, cachetools, annotated-types, xgboost, scikit-learn, rsa, pydantic-core, pyasn1-modules, proto-plus, jinja2, googleapis-common-protos, torch, statsmodels, pydantic, grpcio-status, google-auth, google-auth-httplib2, google-api-core, google-api-python-client, google-ai-generativelanguage, google-generativeai, pgmpy\n",
      "Successfully installed MarkupSafe-3.0.2 annotated-types-0.7.0 cachetools-5.5.1 filelock-3.17.0 fsspec-2025.2.0 google-ai-generativelanguage-0.6.15 google-api-core-2.24.1 google-api-python-client-2.161.0 google-auth-2.38.0 google-auth-httplib2-0.2.0 google-generativeai-0.8.4 googleapis-common-protos-1.67.0 grpcio-1.70.0 grpcio-status-1.70.0 httplib2-0.22.0 jinja2-3.1.5 joblib-1.4.2 mpmath-1.3.0 opt-einsum-3.4.0 patsy-1.0.1 pgmpy-0.1.26 proto-plus-1.26.0 protobuf-5.29.3 pyasn1-0.6.1 pyasn1-modules-0.4.1 pydantic-2.10.6 pydantic-core-2.27.2 rsa-4.9 scikit-learn-1.6.1 scipy-1.13.1 statsmodels-0.14.4 sympy-1.13.1 threadpoolctl-3.5.0 torch-2.6.0 typing-extensions-4.12.2 uritemplate-4.1.1 xgboost-2.1.4\n"
     ]
    }
   ],
   "source": [
    "!pip install pgmpy"
   ]
  },
  {
   "cell_type": "code",
   "execution_count": 10,
   "id": "2448a5dc-fe99-4030-a8a4-a8eceb42767c",
   "metadata": {
    "deletable": false,
    "editable": false,
    "nbgrader": {
     "cell_type": "code",
     "checksum": "ea6114e4bd52ad109d993a4b10d56c57",
     "grade": false,
     "grade_id": "cell-3320f861c723c1b1",
     "locked": true,
     "schema_version": 3,
     "solution": false,
     "task": false
    }
   },
   "outputs": [],
   "source": [
    "# Define Bayesian Network structure\n",
    "model = BayesianNetwork([('F', 'Q'), ('F', 'D'), ('Q', 'W'), ('D', 'W')])\n",
    "\n",
    "# Define CPDs\n",
    "cpd_f = TabularCPD(variable='F', variable_card=2, values=[[0.3], [0.7]], state_names={\"F\":[\"low\", \"high\"]})\n",
    "cpd_q = TabularCPD(variable='Q', variable_card=2, values=[[0.5, 0.2], [0.5, 0.8]],\n",
    "                    evidence=['F'], evidence_card=[2], state_names={\"F\":[\"low\", \"high\"], \"Q\": [\"bad\", \"good\"]})\n",
    "cpd_d = TabularCPD(variable='D', variable_card=2, values=[[0.6, 0.3], [0.4, 0.7]],\n",
    "                    evidence=['F'], evidence_card=[2], state_names={\"F\":[\"low\", \"high\"], \"D\": [\"weak\", \"strong\"]})\n",
    "cpd_w = TabularCPD(variable='W', variable_card=2, \n",
    "                    values=[[0.30, 0.5, 0.15, 0.25], [0.70, 0.5, 0.85, 0.75]],\n",
    "                    evidence=['Q', 'D'], evidence_card=[2, 2], state_names={\"Q\":[\"bad\", \"good\"], \"D\": [\"weak\", \"strong\"], \"W\": [\"lose\", \"win\"]})\n",
    "\n",
    "# Add CPDs to model\n",
    "model.add_cpds(cpd_f, cpd_q, cpd_d, cpd_w)\n",
    "\n",
    "# Check Model\n",
    "assert model.check_model()"
   ]
  },
  {
   "cell_type": "code",
   "execution_count": 11,
   "id": "4b70d4c3-3eab-4116-b1ba-2311a78e15f7",
   "metadata": {
    "deletable": false,
    "editable": false,
    "nbgrader": {
     "cell_type": "code",
     "checksum": "71a95f2bbba3f140272466d0d6ddc6ee",
     "grade": false,
     "grade_id": "cell-a39f936e065d7815",
     "locked": true,
     "schema_version": 3,
     "solution": false,
     "task": false
    }
   },
   "outputs": [
    {
     "name": "stdout",
     "output_type": "stream",
     "text": [
      "+---------+-----+\n",
      "| F(low)  | 0.3 |\n",
      "+---------+-----+\n",
      "| F(high) | 0.7 |\n",
      "+---------+-----+\n",
      "+---------+--------+---------+\n",
      "| F       | F(low) | F(high) |\n",
      "+---------+--------+---------+\n",
      "| Q(bad)  | 0.5    | 0.2     |\n",
      "+---------+--------+---------+\n",
      "| Q(good) | 0.5    | 0.8     |\n",
      "+---------+--------+---------+\n",
      "+-----------+--------+---------+\n",
      "| F         | F(low) | F(high) |\n",
      "+-----------+--------+---------+\n",
      "| D(weak)   | 0.6    | 0.3     |\n",
      "+-----------+--------+---------+\n",
      "| D(strong) | 0.4    | 0.7     |\n",
      "+-----------+--------+---------+\n",
      "+---------+---------+-----------+---------+-----------+\n",
      "| Q       | Q(bad)  | Q(bad)    | Q(good) | Q(good)   |\n",
      "+---------+---------+-----------+---------+-----------+\n",
      "| D       | D(weak) | D(strong) | D(weak) | D(strong) |\n",
      "+---------+---------+-----------+---------+-----------+\n",
      "| W(lose) | 0.3     | 0.5       | 0.15    | 0.25      |\n",
      "+---------+---------+-----------+---------+-----------+\n",
      "| W(win)  | 0.7     | 0.5       | 0.85    | 0.75      |\n",
      "+---------+---------+-----------+---------+-----------+\n"
     ]
    }
   ],
   "source": [
    "_ = [print (cpd) for cpd in model.get_cpds()]"
   ]
  },
  {
   "cell_type": "markdown",
   "id": "bbf8b64d-626b-4054-baa1-df63212634b3",
   "metadata": {
    "deletable": false,
    "editable": false,
    "nbgrader": {
     "cell_type": "markdown",
     "checksum": "a0e401d3ff3658b5a0cd2362058a9025",
     "grade": false,
     "grade_id": "cell-ebc749500aa524bb",
     "locked": true,
     "schema_version": 3,
     "solution": false,
     "task": false
    }
   },
   "source": [
    "----\n",
    "Calculate $P(W|F=\\text{high})$"
   ]
  },
  {
   "cell_type": "markdown",
   "id": "e41e96ec-d265-47b5-a79e-ae8f260e861a",
   "metadata": {
    "deletable": false,
    "editable": false,
    "nbgrader": {
     "cell_type": "markdown",
     "checksum": "46ddb29f5e1350789178bf69146e3d91",
     "grade": false,
     "grade_id": "cell-3706f3402af1a853",
     "locked": true,
     "schema_version": 3,
     "solution": false,
     "task": false
    }
   },
   "source": [
    "$$\n",
    "\\begin{align}\n",
    "P(W|F=\\text{high}) & = \\\\\n",
    "& \\propto P(W,F=\\text{high}) \\\\\n",
    "& = \\sum_{q\\in Q,d \\in D} P(F=\\text{high}, Q, D, W) \\\\\n",
    "& = \\sum_{q,d} P(F=\\text{high})P(q|F=\\text{high})P(d|F=\\text{high})P(W|q,d) \n",
    "\\end{align}\n",
    "$$"
   ]
  },
  {
   "cell_type": "code",
   "execution_count": 12,
   "id": "eb05868c-850b-42a8-b0eb-8fc1e693ca5d",
   "metadata": {
    "deletable": false,
    "nbgrader": {
     "cell_type": "code",
     "checksum": "56182cd722ee289af7080e889cd1852c",
     "grade": false,
     "grade_id": "cell-fc5edf8273348150",
     "locked": false,
     "schema_version": 3,
     "solution": true,
     "task": false
    }
   },
   "outputs": [
    {
     "data": {
      "text/plain": [
       "0.5152"
      ]
     },
     "execution_count": 12,
     "metadata": {},
     "output_type": "execute_result"
    }
   ],
   "source": [
    "P_w = None\n",
    "\n",
    "P_w = (0.7 * 0.2 * 0.3 * 0.7) + (0.7 * 0.2 * 0.7 * 0.5) + (0.7 * 0.8 * 0.3 * 0.85) + (0.7 * 0.8 * 0.7 * 0.75)\n",
    "\n",
    "P_w\n",
    "\n",
    "# Calcuate the probabiity of winning and losing \n",
    "# and put it in a the P_w variable\n",
    "\n",
    "# YOUR CODE HERE\n",
    "# raise NotImplementedError()\n",
    "\n",
    "# P_w = P(Chiefs Win | F = High)"
   ]
  },
  {
   "cell_type": "code",
   "execution_count": null,
   "id": "db1aaf40-96bb-4ae5-b113-ad757b72a511",
   "metadata": {
    "deletable": false,
    "editable": false,
    "nbgrader": {
     "cell_type": "code",
     "checksum": "a2a494cf82d0bc4ea1280c4f577b651b",
     "grade": true,
     "grade_id": "cell-aa23a87e0230bc4c",
     "locked": true,
     "points": 9,
     "schema_version": 3,
     "solution": false,
     "task": false
    }
   },
   "outputs": [],
   "source": [
    "# This cell intentionaly left empty\n"
   ]
  },
  {
   "cell_type": "markdown",
   "id": "706e7148-9deb-442a-8041-b2b83a6f0d62",
   "metadata": {
    "deletable": false,
    "editable": false,
    "nbgrader": {
     "cell_type": "markdown",
     "checksum": "0295d42f9ff99d6d6194593b576c3f34",
     "grade": false,
     "grade_id": "cell-c93f77f7c03800fb",
     "locked": true,
     "schema_version": 3,
     "solution": false,
     "task": false
    }
   },
   "source": [
    "----\n",
    "Then we can use Variable Elimination to do the same inference. \n",
    "\n",
    "Variable Elimination is based on the following insight:\n",
    "\n",
    "$$\n",
    "\\begin{align}\n",
    "& \\sum_{q,d} P(F=\\text{high})P(q|F=\\text{high})P(d|F=\\text{high})P(W|q,d) \\\\\n",
    "& = P(F=\\text{high}) \\sum_{q,d} P(q|F=\\text{high})P(d|F=\\text{high})P(W|q,d) \\\\\n",
    "& = P(F=\\text{high}) \\sum_{q} P(q|F=\\text{high})\\sum_{d}P(d|F=\\text{high})P(W|q,d) \\\\\n",
    "\\end{align}\n",
    "$$"
   ]
  },
  {
   "cell_type": "markdown",
   "id": "f4d1c48e-a8d2-42fb-9a91-85e8f7ba4737",
   "metadata": {
    "deletable": false,
    "editable": false,
    "nbgrader": {
     "cell_type": "markdown",
     "checksum": "4d1cdfe026c046a1f79014c1da941762",
     "grade": false,
     "grade_id": "cell-5a61430bf8b1618e",
     "locked": true,
     "schema_version": 3,
     "solution": false,
     "task": false
    }
   },
   "source": [
    "----\n",
    "\n",
    "Now use the `VariabeElimination` functionalityin `pgmpy` to calcuate the same probability.\n"
   ]
  },
  {
   "cell_type": "code",
   "execution_count": null,
   "id": "9d4aa580-d26d-49c0-9941-3d7b847dd654",
   "metadata": {
    "deletable": false,
    "nbgrader": {
     "cell_type": "code",
     "checksum": "242af8e39a979656bab52a58539e4a76",
     "grade": true,
     "grade_id": "cell-38c30eb4cf53462c",
     "locked": false,
     "points": 1,
     "schema_version": 3,
     "solution": true,
     "task": false
    }
   },
   "outputs": [],
   "source": [
    "# YOUR CODE HERE\n",
    "raise NotImplementedError()"
   ]
  },
  {
   "cell_type": "markdown",
   "id": "fa3efc3f-2a92-42a2-947d-dfd0608715ce",
   "metadata": {
    "deletable": false,
    "editable": false,
    "nbgrader": {
     "cell_type": "markdown",
     "checksum": "b141eae245f03450d4bb8818ed8eca19",
     "grade": false,
     "grade_id": "cell-e634ad84d3fcefce",
     "locked": true,
     "schema_version": 3,
     "solution": false,
     "task": false
    }
   },
   "source": [
    "----\n",
    "Here's a more complex example, using the indurance BN:"
   ]
  },
  {
   "cell_type": "code",
   "execution_count": null,
   "id": "5384925d-5c26-4273-ae6f-be97e7b21e50",
   "metadata": {
    "deletable": false,
    "editable": false,
    "nbgrader": {
     "cell_type": "code",
     "checksum": "375c701ce39ae3857d3e8aa503b5f38f",
     "grade": false,
     "grade_id": "cell-b3130de225e7c8bb",
     "locked": true,
     "schema_version": 3,
     "solution": false,
     "task": false
    }
   },
   "outputs": [],
   "source": [
    "from pgmpy.utils import get_example_model\n",
    "\n",
    "model = get_example_model('insurance')\n",
    "model.get_cardinality()"
   ]
  },
  {
   "cell_type": "code",
   "execution_count": null,
   "id": "5dc4e7b2-5292-4a01-aee7-1394e177a35a",
   "metadata": {
    "deletable": false,
    "editable": false,
    "nbgrader": {
     "cell_type": "code",
     "checksum": "1e6e5883726d0f49f49b5a3daa6ccc37",
     "grade": false,
     "grade_id": "cell-5cd13edc4e63bb76",
     "locked": true,
     "schema_version": 3,
     "solution": false,
     "task": false
    }
   },
   "outputs": [],
   "source": [
    "print(model.get_cpds(node=\"Age\"))"
   ]
  },
  {
   "cell_type": "code",
   "execution_count": null,
   "id": "8e3b83c3-aea9-4fb0-9875-dc3663f6c33d",
   "metadata": {
    "deletable": false,
    "editable": false,
    "nbgrader": {
     "cell_type": "code",
     "checksum": "8c77507bc9bb893208d82c2e4eda3967",
     "grade": false,
     "grade_id": "cell-d75184e11ae56cc9",
     "locked": true,
     "schema_version": 3,
     "solution": false,
     "task": false
    }
   },
   "outputs": [],
   "source": [
    "print(model.get_cpds(node=\"DrivQuality\"))"
   ]
  },
  {
   "cell_type": "markdown",
   "id": "ced2f8ce-0749-425c-87e1-9b56cb1fbe69",
   "metadata": {
    "deletable": false,
    "editable": false,
    "nbgrader": {
     "cell_type": "markdown",
     "checksum": "0a864a6eaddc02d62def6d0fc79728d8",
     "grade": false,
     "grade_id": "cell-4f13904ae75c6e1b",
     "locked": true,
     "schema_version": 3,
     "solution": false,
     "task": false
    }
   },
   "source": [
    "Can you calculate the probability of `DrivQuality` given `Age` for both `Adolescent` and `Senior` values of `Age`? "
   ]
  },
  {
   "cell_type": "code",
   "execution_count": null,
   "id": "2d670eac-b11a-4410-96ca-59d07adf960f",
   "metadata": {
    "deletable": false,
    "nbgrader": {
     "cell_type": "code",
     "checksum": "a9994a85b3b4e1ba5365a77f151cccf7",
     "grade": true,
     "grade_id": "cell-d186569a449624ec",
     "locked": false,
     "points": 1,
     "schema_version": 3,
     "solution": true,
     "task": false
    }
   },
   "outputs": [],
   "source": [
    "# YOUR CODE HERE\n",
    "raise NotImplementedError()"
   ]
  }
 ],
 "metadata": {
  "kernelspec": {
   "display_name": "base",
   "language": "python",
   "name": "python3"
  },
  "language_info": {
   "codemirror_mode": {
    "name": "ipython",
    "version": 3
   },
   "file_extension": ".py",
   "mimetype": "text/x-python",
   "name": "python",
   "nbconvert_exporter": "python",
   "pygments_lexer": "ipython3",
   "version": "3.9.12"
  }
 },
 "nbformat": 4,
 "nbformat_minor": 5
}
